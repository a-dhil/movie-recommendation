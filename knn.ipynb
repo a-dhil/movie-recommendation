{
 "cells": [
  {
   "cell_type": "code",
   "execution_count": 1,
   "metadata": {},
   "outputs": [],
   "source": [
    "# Importing Libraries\n",
    "import numpy as np\n",
    "import pandas as pd\n",
    "import sklearn\n",
    "import matplotlib.pyplot as plt\n",
    "import seaborn as sns\n",
    "from pathlib import Path\n",
    "from sklearn.neighbors import NearestNeighbors\n",
    "import warnings\n",
    "warnings.simplefilter(action='ignore', category=FutureWarning)\n",
    "import requests"
   ]
  },
  {
   "cell_type": "code",
   "execution_count": 2,
   "metadata": {},
   "outputs": [],
   "source": [
    "#Define the URL for the movies list API\n",
    "url=\"http://127.0.0.1:5000/api/v1.0/movies_list\""
   ]
  },
  {
   "cell_type": "code",
   "execution_count": 3,
   "metadata": {},
   "outputs": [],
   "source": [
    "# Send a GET request to the API to retrieve the movie list\n",
    "response=requests.get(url)\n"
   ]
  },
  {
   "cell_type": "code",
   "execution_count": 4,
   "metadata": {},
   "outputs": [],
   "source": [
    "# Checking if the request was successful\n",
    "if response.status_code == 200:\n",
    "    # Convert the JSON response to a pandas DataFrame\n",
    "    movies_combined_df = pd.DataFrame(response.json())\n",
    "else:\n",
    "    print(\"Failed to retrieve data:\", response.status_code)"
   ]
  },
  {
   "cell_type": "code",
   "execution_count": 5,
   "metadata": {},
   "outputs": [
    {
     "data": {
      "text/html": [
       "<div>\n",
       "<style scoped>\n",
       "    .dataframe tbody tr th:only-of-type {\n",
       "        vertical-align: middle;\n",
       "    }\n",
       "\n",
       "    .dataframe tbody tr th {\n",
       "        vertical-align: top;\n",
       "    }\n",
       "\n",
       "    .dataframe thead th {\n",
       "        text-align: right;\n",
       "    }\n",
       "</style>\n",
       "<table border=\"1\" class=\"dataframe\">\n",
       "  <thead>\n",
       "    <tr style=\"text-align: right;\">\n",
       "      <th></th>\n",
       "      <th>cleaned_genres</th>\n",
       "      <th>movieId</th>\n",
       "      <th>poster_path</th>\n",
       "      <th>rating</th>\n",
       "      <th>timestamp</th>\n",
       "      <th>title</th>\n",
       "      <th>userId</th>\n",
       "    </tr>\n",
       "  </thead>\n",
       "  <tbody>\n",
       "    <tr>\n",
       "      <th>0</th>\n",
       "      <td>Action|Crime|Drama|Thriller</td>\n",
       "      <td>949</td>\n",
       "      <td>/zMyfPUelumio3tiDKPffaUpsQTD.jpg</td>\n",
       "      <td>4.0</td>\n",
       "      <td>956598942</td>\n",
       "      <td>Heat</td>\n",
       "      <td>102</td>\n",
       "    </tr>\n",
       "    <tr>\n",
       "      <th>1</th>\n",
       "      <td>Action|Crime|Drama|Thriller</td>\n",
       "      <td>949</td>\n",
       "      <td>/zMyfPUelumio3tiDKPffaUpsQTD.jpg</td>\n",
       "      <td>4.0</td>\n",
       "      <td>942345464</td>\n",
       "      <td>Heat</td>\n",
       "      <td>363</td>\n",
       "    </tr>\n",
       "    <tr>\n",
       "      <th>2</th>\n",
       "      <td>Action|Crime|Drama|Thriller</td>\n",
       "      <td>949</td>\n",
       "      <td>/zMyfPUelumio3tiDKPffaUpsQTD.jpg</td>\n",
       "      <td>4.5</td>\n",
       "      <td>1133735550</td>\n",
       "      <td>Heat</td>\n",
       "      <td>452</td>\n",
       "    </tr>\n",
       "    <tr>\n",
       "      <th>3</th>\n",
       "      <td>Action|Crime|Drama|Thriller</td>\n",
       "      <td>949</td>\n",
       "      <td>/zMyfPUelumio3tiDKPffaUpsQTD.jpg</td>\n",
       "      <td>3.5</td>\n",
       "      <td>1340405089</td>\n",
       "      <td>Heat</td>\n",
       "      <td>505</td>\n",
       "    </tr>\n",
       "    <tr>\n",
       "      <th>4</th>\n",
       "      <td>Action|Crime|Drama|Thriller</td>\n",
       "      <td>949</td>\n",
       "      <td>/zMyfPUelumio3tiDKPffaUpsQTD.jpg</td>\n",
       "      <td>3.0</td>\n",
       "      <td>879503053</td>\n",
       "      <td>Heat</td>\n",
       "      <td>537</td>\n",
       "    </tr>\n",
       "  </tbody>\n",
       "</table>\n",
       "</div>"
      ],
      "text/plain": [
       "                cleaned_genres  movieId                       poster_path  \\\n",
       "0  Action|Crime|Drama|Thriller      949  /zMyfPUelumio3tiDKPffaUpsQTD.jpg   \n",
       "1  Action|Crime|Drama|Thriller      949  /zMyfPUelumio3tiDKPffaUpsQTD.jpg   \n",
       "2  Action|Crime|Drama|Thriller      949  /zMyfPUelumio3tiDKPffaUpsQTD.jpg   \n",
       "3  Action|Crime|Drama|Thriller      949  /zMyfPUelumio3tiDKPffaUpsQTD.jpg   \n",
       "4  Action|Crime|Drama|Thriller      949  /zMyfPUelumio3tiDKPffaUpsQTD.jpg   \n",
       "\n",
       "   rating   timestamp title  userId  \n",
       "0     4.0   956598942  Heat     102  \n",
       "1     4.0   942345464  Heat     363  \n",
       "2     4.5  1133735550  Heat     452  \n",
       "3     3.5  1340405089  Heat     505  \n",
       "4     3.0   879503053  Heat     537  "
      ]
     },
     "execution_count": 5,
     "metadata": {},
     "output_type": "execute_result"
    }
   ],
   "source": [
    "# Display the first few rows of the combined movies DataFrame\n",
    "movies_combined_df.head()"
   ]
  },
  {
   "cell_type": "code",
   "execution_count": 7,
   "metadata": {},
   "outputs": [
    {
     "data": {
      "text/html": [
       "<div>\n",
       "<style scoped>\n",
       "    .dataframe tbody tr th:only-of-type {\n",
       "        vertical-align: middle;\n",
       "    }\n",
       "\n",
       "    .dataframe tbody tr th {\n",
       "        vertical-align: top;\n",
       "    }\n",
       "\n",
       "    .dataframe thead th {\n",
       "        text-align: right;\n",
       "    }\n",
       "</style>\n",
       "<table border=\"1\" class=\"dataframe\">\n",
       "  <thead>\n",
       "    <tr style=\"text-align: right;\">\n",
       "      <th></th>\n",
       "      <th>movieId</th>\n",
       "      <th>title</th>\n",
       "      <th>cleaned_genres</th>\n",
       "    </tr>\n",
       "  </thead>\n",
       "  <tbody>\n",
       "    <tr>\n",
       "      <th>0</th>\n",
       "      <td>949</td>\n",
       "      <td>Heat</td>\n",
       "      <td>Action|Crime|Drama|Thriller</td>\n",
       "    </tr>\n",
       "    <tr>\n",
       "      <th>1</th>\n",
       "      <td>949</td>\n",
       "      <td>Heat</td>\n",
       "      <td>Action|Crime|Drama|Thriller</td>\n",
       "    </tr>\n",
       "    <tr>\n",
       "      <th>2</th>\n",
       "      <td>949</td>\n",
       "      <td>Heat</td>\n",
       "      <td>Action|Crime|Drama|Thriller</td>\n",
       "    </tr>\n",
       "    <tr>\n",
       "      <th>3</th>\n",
       "      <td>949</td>\n",
       "      <td>Heat</td>\n",
       "      <td>Action|Crime|Drama|Thriller</td>\n",
       "    </tr>\n",
       "    <tr>\n",
       "      <th>4</th>\n",
       "      <td>949</td>\n",
       "      <td>Heat</td>\n",
       "      <td>Action|Crime|Drama|Thriller</td>\n",
       "    </tr>\n",
       "  </tbody>\n",
       "</table>\n",
       "</div>"
      ],
      "text/plain": [
       "   movieId title               cleaned_genres\n",
       "0      949  Heat  Action|Crime|Drama|Thriller\n",
       "1      949  Heat  Action|Crime|Drama|Thriller\n",
       "2      949  Heat  Action|Crime|Drama|Thriller\n",
       "3      949  Heat  Action|Crime|Drama|Thriller\n",
       "4      949  Heat  Action|Crime|Drama|Thriller"
      ]
     },
     "execution_count": 7,
     "metadata": {},
     "output_type": "execute_result"
    }
   ],
   "source": [
    "# Extracting movies-related data into a new DataFrame\n",
    "movies_df = movies_combined_df[['movieId', 'title', 'cleaned_genres']].copy()\n",
    "movies_df.head()"
   ]
  },
  {
   "cell_type": "code",
   "execution_count": 63,
   "metadata": {},
   "outputs": [],
   "source": [
    "# Create a path to csv and read it in pandas dataframe\n",
    "#path=Path(\"Data/movies.csv\")\n",
    "#movies_df=pd.read_csv(path)\n",
    "#movies_df.head()"
   ]
  },
  {
   "cell_type": "code",
   "execution_count": 8,
   "metadata": {},
   "outputs": [
    {
     "data": {
      "text/html": [
       "<div>\n",
       "<style scoped>\n",
       "    .dataframe tbody tr th:only-of-type {\n",
       "        vertical-align: middle;\n",
       "    }\n",
       "\n",
       "    .dataframe tbody tr th {\n",
       "        vertical-align: top;\n",
       "    }\n",
       "\n",
       "    .dataframe thead th {\n",
       "        text-align: right;\n",
       "    }\n",
       "</style>\n",
       "<table border=\"1\" class=\"dataframe\">\n",
       "  <thead>\n",
       "    <tr style=\"text-align: right;\">\n",
       "      <th></th>\n",
       "      <th>userId</th>\n",
       "      <th>movieId</th>\n",
       "      <th>rating</th>\n",
       "      <th>timestamp</th>\n",
       "    </tr>\n",
       "  </thead>\n",
       "  <tbody>\n",
       "    <tr>\n",
       "      <th>0</th>\n",
       "      <td>102</td>\n",
       "      <td>949</td>\n",
       "      <td>4.0</td>\n",
       "      <td>956598942</td>\n",
       "    </tr>\n",
       "    <tr>\n",
       "      <th>1</th>\n",
       "      <td>363</td>\n",
       "      <td>949</td>\n",
       "      <td>4.0</td>\n",
       "      <td>942345464</td>\n",
       "    </tr>\n",
       "    <tr>\n",
       "      <th>2</th>\n",
       "      <td>452</td>\n",
       "      <td>949</td>\n",
       "      <td>4.5</td>\n",
       "      <td>1133735550</td>\n",
       "    </tr>\n",
       "    <tr>\n",
       "      <th>3</th>\n",
       "      <td>505</td>\n",
       "      <td>949</td>\n",
       "      <td>3.5</td>\n",
       "      <td>1340405089</td>\n",
       "    </tr>\n",
       "    <tr>\n",
       "      <th>4</th>\n",
       "      <td>537</td>\n",
       "      <td>949</td>\n",
       "      <td>3.0</td>\n",
       "      <td>879503053</td>\n",
       "    </tr>\n",
       "  </tbody>\n",
       "</table>\n",
       "</div>"
      ],
      "text/plain": [
       "   userId  movieId  rating   timestamp\n",
       "0     102      949     4.0   956598942\n",
       "1     363      949     4.0   942345464\n",
       "2     452      949     4.5  1133735550\n",
       "3     505      949     3.5  1340405089\n",
       "4     537      949     3.0   879503053"
      ]
     },
     "execution_count": 8,
     "metadata": {},
     "output_type": "execute_result"
    }
   ],
   "source": [
    "# Extracting ratings-related data into a new DataFrame\n",
    "ratings_df = movies_combined_df[['userId', 'movieId', 'rating', 'timestamp']].copy()\n",
    "ratings_df.head()"
   ]
  },
  {
   "cell_type": "code",
   "execution_count": 38,
   "metadata": {},
   "outputs": [],
   "source": [
    "# Create a path to csv and read it in pandas dataframe\n",
    "#path=Path(\"Data/ratings.csv\")\n",
    "#ratings_df=pd.read_csv(path)\n",
    "#ratings_df.head()"
   ]
  },
  {
   "cell_type": "code",
   "execution_count": 9,
   "metadata": {},
   "outputs": [
    {
     "name": "stdout",
     "output_type": "stream",
     "text": [
      "Number of ratings: 43000\n",
      "Number of unique movieId's: 2615\n",
      "Number of unique users: 671\n",
      "Average ratings per user: 64.08\n",
      "Average ratings per movie: 16.44\n"
     ]
    }
   ],
   "source": [
    "#Calculate and print basic statistics about the dataset\n",
    "n_ratings = len(ratings_df)\n",
    "n_movies = len(ratings_df['movieId'].unique())\n",
    "n_users = len(ratings_df['userId'].unique())\n",
    " \n",
    "print(f\"Number of ratings: {n_ratings}\")\n",
    "print(f\"Number of unique movieId's: {n_movies}\")\n",
    "print(f\"Number of unique users: {n_users}\")\n",
    "print(f\"Average ratings per user: {round(n_ratings/n_users, 2)}\")\n",
    "print(f\"Average ratings per movie: {round(n_ratings/n_movies, 2)}\")"
   ]
  },
  {
   "cell_type": "code",
   "execution_count": 10,
   "metadata": {},
   "outputs": [
    {
     "name": "stdout",
     "output_type": "stream",
     "text": [
      "   userId  n_ratings\n",
      "0       1          6\n",
      "1       2         58\n",
      "2       3         24\n",
      "3       4        109\n",
      "4       5         53\n"
     ]
    }
   ],
   "source": [
    "#Calculate the frequencies of ratings by each user\n",
    "user_freq = ratings_df[['userId', 'movieId']].groupby(\n",
    "    'userId').count().reset_index()\n",
    "user_freq.columns = ['userId', 'n_ratings']\n",
    "print(user_freq.head())"
   ]
  },
  {
   "cell_type": "code",
   "execution_count": 11,
   "metadata": {},
   "outputs": [
    {
     "name": "stdout",
     "output_type": "stream",
     "text": [
      "Lowest rated movie details:        movieId     title                  cleaned_genres\n",
      "29121     2191  Stranded  Thriller|Drama|Science Fiction\n",
      "Highest rated movie details:        movieId       title                         cleaned_genres\n",
      "18101      183  The Wizard  Adventure|Comedy|Drama|Family|Romance\n",
      "Number of people who rated the highest rated movie: 1\n",
      "Number of people who rated the lowest rated movie: 1\n"
     ]
    }
   ],
   "source": [
    "#TEST CELL DELETE# Find and display the lowest and highest rated movies\n",
    "mean_rating = ratings_df.groupby('movieId')[['rating']].mean()\n",
    "lowest_rated = mean_rating['rating'].idxmin()\n",
    "highest_rated = mean_rating['rating'].idxmax()\n",
    "print(\"Lowest rated movie details:\", movies_df.loc[movies_df['movieId'] == lowest_rated])\n",
    "print(\"Highest rated movie details:\", movies_df.loc[movies_df['movieId'] == highest_rated])\n",
    "print(\"Number of people who rated the highest rated movie:\", ratings_df[ratings_df['movieId'] == highest_rated].shape[0])\n",
    "print(\"Number of people who rated the lowest rated movie:\", ratings_df[ratings_df['movieId'] == lowest_rated].shape[0])"
   ]
  },
  {
   "cell_type": "code",
   "execution_count": 12,
   "metadata": {},
   "outputs": [],
   "source": [
    "# Find Lowest and Highest rated movies:\n",
    "mean_rating = ratings_df.groupby('movieId')[['rating']].mean()\n",
    "# Lowest rated movies\n",
    "lowest_rated = mean_rating['rating'].idxmin()\n",
    "movies_df.loc[movies_df['movieId'] == lowest_rated]\n",
    "# Highest rated movies\n",
    "highest_rated = mean_rating['rating'].idxmax()\n",
    "movies_df.loc[movies_df['movieId'] == highest_rated]\n",
    "# show number of people who rated movies rated movie highest\n",
    "ratings_df[ratings_df['movieId']==highest_rated]\n",
    "# show number of people who rated movies rated movie lowest\n",
    "ratings_df[ratings_df['movieId']==lowest_rated]\n",
    " \n",
    "## the above movies has very low dataset. We will use bayesian average\n",
    "movie_stats = ratings_df.groupby('movieId')[['rating']].agg(['count', 'mean'])\n",
    "movie_stats.columns = movie_stats.columns.droplevel()"
   ]
  },
  {
   "cell_type": "code",
   "execution_count": 13,
   "metadata": {},
   "outputs": [],
   "source": [
    "# Prepare for a recommendation system: Create a user-item matrix\n",
    "from scipy.sparse import csr_matrix\n",
    "#Create a user-iteam matrix from the ratings DataFrame \n",
    "def create_matrix(df):\n",
    "     \n",
    "    N = len(df['userId'].unique())\n",
    "    M = len(df['movieId'].unique())\n",
    "     \n",
    "    # Map Ids to indices\n",
    "    user_mapper = dict(zip(np.unique(df[\"userId\"]), list(range(N))))\n",
    "    movie_mapper = dict(zip(np.unique(df[\"movieId\"]), list(range(M))))\n",
    "     \n",
    "    # Map indices to IDs\n",
    "    user_inv_mapper = dict(zip(list(range(N)), np.unique(df[\"userId\"])))\n",
    "    movie_inv_mapper = dict(zip(list(range(M)), np.unique(df[\"movieId\"])))\n",
    "     \n",
    "    user_index = [user_mapper[i] for i in df['userId']]\n",
    "    movie_index = [movie_mapper[i] for i in df['movieId']]\n",
    "    # Create a sparse matrix with ratings in their corresponding user/movie positions\n",
    "    X = csr_matrix((df[\"rating\"], (movie_index, user_index)), shape=(M, N))\n",
    "     \n",
    "    return X, user_mapper, movie_mapper, user_inv_mapper, movie_inv_mapper\n",
    "# Generate the user-item matrix and mapping dictionaries     \n",
    "X, user_mapper, movie_mapper, user_inv_mapper, movie_inv_mapper = create_matrix(ratings_df)"
   ]
  },
  {
   "cell_type": "code",
   "execution_count": 14,
   "metadata": {},
   "outputs": [
    {
     "name": "stdout",
     "output_type": "stream",
     "text": [
      "Since you watched Shadows in Paradise\n",
      "Lolita\n",
      "Shaft in Africa\n",
      "Mrs. Doubtfire\n",
      "The Passion of Joan of Arc\n",
      "Almost Famous\n",
      "Hero\n",
      "Dont Look Back\n",
      "Donnie Darko\n",
      "The Living Daylights\n",
      "Monty Python and the Holy Grail\n"
     ]
    }
   ],
   "source": [
    "# Define a function to find similar movies using the k-Nearest Neighbors algorithm\n",
    "def find_similar_movies(movie_id, X, k, metric='cosine', show_distance=False):\n",
    "     \n",
    "    neighbour_ids = []\n",
    "     \n",
    "    movie_ind = movie_mapper[movie_id]\n",
    "    movie_vec = X[movie_ind]\n",
    "    k+=1\n",
    "    kNN = NearestNeighbors(n_neighbors=k, algorithm=\"brute\", metric=metric)\n",
    "    kNN.fit(X)\n",
    "    movie_vec = movie_vec.reshape(1,-1)\n",
    "    neighbour = kNN.kneighbors(movie_vec, return_distance=show_distance)\n",
    "    for i in range(0,k):\n",
    "        n = neighbour.item(i)\n",
    "        neighbour_ids.append(movie_inv_mapper[n])\n",
    "    neighbour_ids.pop(0)\n",
    "    return neighbour_ids\n",
    " \n",
    " \n",
    "movie_titles = dict(zip(movies_df['movieId'], movies_df['title']))\n",
    " \n",
    "movie_id = 3\n",
    " \n",
    "similar_ids = find_similar_movies(movie_id, X, k=10)\n",
    "movie_title = movie_titles[movie_id]\n",
    " \n",
    "print(f\"Since you watched {movie_title}\")\n",
    "for i in similar_ids:\n",
    "    print(movie_titles[i])"
   ]
  },
  {
   "cell_type": "code",
   "execution_count": 15,
   "metadata": {},
   "outputs": [],
   "source": [
    "def recommend_movies_for_user(user_id, X, user_mapper, movie_mapper, movie_inv_mapper, k=10):\n",
    "    df1 = ratings_df[ratings_df['userId'] == user_id]\n",
    "     \n",
    "    if df1.empty:\n",
    "        print(f\"User with ID {user_id} does not exist.\")\n",
    "        return\n",
    " \n",
    "    movie_id = df1[df1['rating'] == max(df1['rating'])]['movieId'].iloc[0]\n",
    " \n",
    "    movie_titles = dict(zip(movies_df['movieId'], movies_df['title']))\n",
    " \n",
    "    similar_ids = find_similar_movies(movie_id, X, k)\n",
    "    movie_title = movie_titles.get(movie_id, \"Movie not found\")\n",
    " \n",
    "    if movie_title == \"Movie not found\":\n",
    "        print(f\"Movie with ID {movie_id} not found.\")\n",
    "        return\n",
    " \n",
    "    print(f\"Since you watched {movie_title}, you might also like:\")\n",
    "    for i in similar_ids:\n",
    "        print(movie_titles.get(i, \"Movie not found\"))"
   ]
  },
  {
   "cell_type": "code",
   "execution_count": 16,
   "metadata": {},
   "outputs": [
    {
     "name": "stdout",
     "output_type": "stream",
     "text": [
      "Since you watched Run Lola Run, you might also like:\n",
      "Ali: Fear Eats the Soul\n",
      "The Passion of Joan of Arc\n",
      "Fahrenheit 9/11\n",
      "Arlington Road\n",
      "Tuya's Marriage\n",
      "Wag the Dog\n",
      "The 39 Steps\n",
      "Minority Report\n",
      "Twin Peaks: Fire Walk with Me\n",
      "Mrs. Doubtfire\n"
     ]
    }
   ],
   "source": [
    "user_id = 150  # Replace with the desired user ID\n",
    "recommend_movies_for_user(user_id, X, user_mapper, movie_mapper, movie_inv_mapper, k=10)"
   ]
  }
 ],
 "metadata": {
  "kernelspec": {
   "display_name": "dev",
   "language": "python",
   "name": "python3"
  },
  "language_info": {
   "codemirror_mode": {
    "name": "ipython",
    "version": 3
   },
   "file_extension": ".py",
   "mimetype": "text/x-python",
   "name": "python",
   "nbconvert_exporter": "python",
   "pygments_lexer": "ipython3",
   "version": "3.10.13"
  }
 },
 "nbformat": 4,
 "nbformat_minor": 2
}
