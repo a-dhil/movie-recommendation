{
 "cells": [
  {
   "cell_type": "markdown",
   "metadata": {},
   "source": [
    "Load and Preprocess Data"
   ]
  },
  {
   "cell_type": "code",
   "execution_count": 40,
   "metadata": {},
   "outputs": [],
   "source": [
    "import pandas as pd\n",
    "from sklearn.feature_extraction.text import TfidfVectorizer\n",
    "from sklearn.metrics.pairwise import cosine_similarity\n",
    "from pathlib import Path"
   ]
  },
  {
   "cell_type": "code",
   "execution_count": 41,
   "metadata": {},
   "outputs": [],
   "source": [
    "\n",
    "path=Path(\"Resources/movies_cleaned.json\")\n",
    "df = pd.read_json(path)"
   ]
  },
  {
   "cell_type": "markdown",
   "metadata": {},
   "source": [
    "Feature Engineering for Genres\n",
    "Convert the cleaned_genres column into a feature set using TF-IDF or one-hot encoding. For TF-IDF:"
   ]
  },
  {
   "cell_type": "code",
   "execution_count": 42,
   "metadata": {},
   "outputs": [],
   "source": [
    "# Prepare the TF-IDF matrix for movie genres, where each row is a movie\n",
    "tfidf = TfidfVectorizer(stop_words='english')\n",
    "# Important: Apply TF-IDF transformation for each movie, not just unique genres\n",
    "tfidf_matrix = tfidf.fit_transform(df['cleaned_genres'])"
   ]
  },
  {
   "cell_type": "markdown",
   "metadata": {},
   "source": [
    "Create User Profile"
   ]
  },
  {
   "cell_type": "code",
   "execution_count": 43,
   "metadata": {},
   "outputs": [],
   "source": [
    "# Map movieIds to their index in tfidf_matrix for easy access\n",
    "movie_id_to_index = pd.Series(df.index, index=df['movieId']).to_dict()\n",
    "\n",
    "# Initialize user_profiles DataFrame\n",
    "user_profiles = pd.DataFrame(0, index=df['userId'].unique(), columns=tfidf.get_feature_names_out())\n"
   ]
  },
  {
   "cell_type": "code",
   "execution_count": 44,
   "metadata": {},
   "outputs": [],
   "source": [
    "# Calculate user profiles\n",
    "for user in df['userId'].unique():\n",
    "    user_movies = df[df['userId'] == user]\n",
    "    for _, row in user_movies.iterrows():\n",
    "        idx = movie_id_to_index[row['movieId']]\n",
    "        genre_vector = tfidf_matrix[idx].toarray()\n",
    "        rating = row['rating']\n",
    "        user_profiles.loc[user] += rating * genre_vector.flatten()\n",
    "\n",
    "    # Normalize the user profile\n",
    "    user_profiles.loc[user] = user_profiles.loc[user] / user_movies['rating'].sum()\n",
    "\n"
   ]
  },
  {
   "cell_type": "markdown",
   "metadata": {},
   "source": [
    "Generate Recommendation"
   ]
  },
  {
   "cell_type": "code",
   "execution_count": 45,
   "metadata": {},
   "outputs": [],
   "source": [
    "# Select a specific user to generate recommendations for\n",
    "example_user_id = 23  # For example, choosing user 23 explicitly for clarity\n",
    "user_profile = user_profiles.loc[example_user_id].values.reshape(1, -1)\n"
   ]
  },
  {
   "cell_type": "code",
   "execution_count": 46,
   "metadata": {},
   "outputs": [],
   "source": [
    "# Calculate similarity scores between the user profile and all movie genre vectors\n",
    "similarity_scores = cosine_similarity(user_profile, tfidf_matrix)"
   ]
  },
  {
   "cell_type": "code",
   "execution_count": 47,
   "metadata": {},
   "outputs": [],
   "source": [
    "# Get top 5 recommended movie indices\n",
    "top_indices = similarity_scores.argsort()[0][-6:-1]  # Exclude the last one as it will be the user's own highest match"
   ]
  },
  {
   "cell_type": "code",
   "execution_count": 48,
   "metadata": {},
   "outputs": [
    {
     "name": "stdout",
     "output_type": "stream",
     "text": [
      "Recommended Movies for User 23: ['Confessions of a Dangerous Mind']\n"
     ]
    }
   ],
   "source": [
    "# Fetching recommended movie titles\n",
    "recommended_movies = df.iloc[top_indices]['title'].unique()\n",
    "\n",
    "print(f\"Recommended Movies for User {example_user_id}: {recommended_movies}\")"
   ]
  }
 ],
 "metadata": {
  "kernelspec": {
   "display_name": "dev",
   "language": "python",
   "name": "python3"
  },
  "language_info": {
   "codemirror_mode": {
    "name": "ipython",
    "version": 3
   },
   "file_extension": ".py",
   "mimetype": "text/x-python",
   "name": "python",
   "nbconvert_exporter": "python",
   "pygments_lexer": "ipython3",
   "version": "3.10.13"
  }
 },
 "nbformat": 4,
 "nbformat_minor": 2
}
